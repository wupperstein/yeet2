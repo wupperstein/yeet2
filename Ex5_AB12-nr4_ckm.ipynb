{
 "cells": [
  {
   "cell_type": "code",
   "execution_count": 7,
   "metadata": {},
   "outputs": [],
   "source": [
    "import matplotlib.pyplot as plt # to make plots\n",
    "import numpy as np # for array manipulation and math functions\n",
    "import scipy.signal as scs # for signal analysis\n",
    "import glob # for finding files\n",
    "import os as os\n",
    "import warnings\n",
    "import array as arr\n",
    "from scipy import optimize\n",
    "from scipy.optimize import curve_fit\n",
    "# import fit models from the lmfit package\n",
    "from lmfit.models import ExponentialModel, GaussianModel, PolynomialModel"
   ]
  },
  {
   "cell_type": "code",
   "execution_count": 8,
   "metadata": {},
   "outputs": [],
   "source": [
    "ud=0.9737\n",
    "udr=0.00014\n",
    "cd=0.221\n",
    "cdr=0.004\n",
    "cb=41*1e-3\n",
    "cbr=1.4*1e-3\n",
    "ub=3.82*1e-3\n",
    "ubr=0.24*1e-3\n",
    "td=8*1e-3\n",
    "tdr=0.3*1e-3\n",
    "tb=1.013\n",
    "tbr=0.017\n",
    "a=84.9\n",
    "ap=5.1\n",
    "am=4.5\n",
    "g=72.1\n",
    "gp=4.1\n",
    "gm=4.5\n",
    "p=np.pi/180\n",
    "a=a*p\n",
    "ap=ap*p\n",
    "am=am*p\n",
    "g=g*p\n",
    "gp=gp*p\n",
    "gm=gm*p\n",
    "G=-(np.pi-g-a)\n",
    "Gp=np.sqrt(ap**2+ap**2)\n",
    "Gm=np.sqrt(gm**2+am**2)\n"
   ]
  },
  {
   "cell_type": "code",
   "execution_count": 11,
   "metadata": {},
   "outputs": [],
   "source": [
    "def R1(u1,u2,c1,c2):\n",
    "    return (u1*u2)/(c1*c2)\n",
    "def R2(t1,t2,c1,c2):\n",
    "    return (t1*t2)/(c1*c2)\n",
    "def pr(r,w1):\n",
    "    return np.cos(w1)*r\n",
    "def pi(r,w1):\n",
    "    return np.sin(w1)*r\n",
    "\n",
    "def R1r(u1,u2,c1,c2,u1r,u2r,c1r,c2r):\n",
    "    return (u1*u2)/(c1*c2)*np.sqrt((u1r/u1)**2+(u2r/u2)**2+(c1r/c1)**2+(c2r/c2)**2)\n",
    "def R2r(t1,t2,c1,c2,t1r,t2r,c1r,c2r):\n",
    "    return (t1*t2)/(c1*c2)*np.sqrt((t1r/t1)**2+(t2r/t2)**2+(c1r/c1)**2+(c2r/c2)**2)\n",
    "def prr(r,w1,rr,w1r):\n",
    "    return np.sqrt((rr*np.cos(w1))**2+(r*np.sin(w1)*w1r)**2)\n",
    "def pir(r,w1,rr,w1r):\n",
    "    return np.sqrt((rr*np.sin(w1))**2+(r*np.cos(w1)*w1r)**2)"
   ]
  },
  {
   "cell_type": "code",
   "execution_count": 16,
   "metadata": {},
   "outputs": [],
   "source": [
    "r1=R1(ud,ub,cd,cb)\n",
    "r2=R2(td,tb,cd,cb)\n",
    "pr1=pr(r1,g)\n",
    "pi1=pi(r1,g)\n",
    "pr2=pr(r2,G)\n",
    "pi2=pi(r2,G)\n",
    "\n",
    "r1r=R1r(ud,ub,cd,cb,udr,ubr,cdr,cbr)\n",
    "r2r=R2r(td,tb,cd,cb,tdr,tbr,cdr,cbr)\n",
    "pr1p=prr(r1,g,r1r,gp)\n",
    "pi1p=pir(r1,g,r1r,gp)\n",
    "pr2p=prr(r2,G,r2r,Gp)\n",
    "pi2p=pir(r2,G,r2r,Gp)\n",
    "pr1m=prr(r1,g,r1r,gm)\n",
    "pi1m=pir(r1,g,r1r,gm)\n",
    "pr2m=prr(r2,G,r2r,Gm)\n",
    "pi2m=pir(r2,G,r2r,Gm)\n",
    "\n",
    "pr=pr1+pr2\n",
    "pi=pi1+pi2\n",
    "prp=np.sqrt(pr1p**2+pr2p**2)\n",
    "pip=np.sqrt(pi1p**2+pi2p**2)\n",
    "prm=np.sqrt(pr1m**2+pr2m**2)\n",
    "pim=np.sqrt(pi1m**2+pi2m**2)\n"
   ]
  },
  {
   "cell_type": "code",
   "execution_count": 17,
   "metadata": {},
   "outputs": [
    {
     "name": "stdout",
     "output_type": "stream",
     "text": [
      "r1=0.4105+/-0.0303\n",
      "r2=0.8944+/-0.0504\n",
      "(roh,nu)= (0.1262+0.0295-0.0321,0.3906+0.0302-0.0305)\n",
      "(roh,nu)2= (0.8233+0.064-0.0605,-0.3495+0.1055-0.0935)\n",
      "(1,0)= (0.9495+0.0704-0.0685,0.0412+0.1097-0.0984)\n"
     ]
    }
   ],
   "source": [
    "print('r1='+str(np.round(r1,4))+'+/-'+str(np.round(r1r,4)))\n",
    "print('r2='+str(np.round(r2,4))+'+/-'+str(np.round(r2r,4)))\n",
    "\n",
    "print('(roh,nu)= ('+str(np.round(pr1,4))+ '+'+str(np.round(pr1p,4))+'-'+str(np.round(pr1m,4))+','+str(np.round(pi1,4))+ '+'+str(np.round(pi1p,4))+'-'+str(np.round(pi1m,4))+')')\n",
    "print('(roh,nu)2= ('+str(np.round(pr2,4))+ '+'+str(np.round(pr2p,4))+'-'+str(np.round(pr2m,4))+','+str(np.round(pi2,4))+ '+'+str(np.round(pi2p,4))+'-'+str(np.round(pi2m,4))+')')\n",
    "print('(1,0)= ('+str(np.round(pr,4))+ '+'+str(np.round(prp,4))+'-'+str(np.round(prm,4))+','+str(np.round(pi,4))+ '+'+str(np.round(pip,4))+'-'+str(np.round(pim,4))+')')"
   ]
  },
  {
   "cell_type": "code",
   "execution_count": null,
   "metadata": {},
   "outputs": [],
   "source": []
  }
 ],
 "metadata": {
  "kernelspec": {
   "display_name": "base",
   "language": "python",
   "name": "python3"
  },
  "language_info": {
   "codemirror_mode": {
    "name": "ipython",
    "version": 3
   },
   "file_extension": ".py",
   "mimetype": "text/x-python",
   "name": "python",
   "nbconvert_exporter": "python",
   "pygments_lexer": "ipython3",
   "version": "3.12.7"
  }
 },
 "nbformat": 4,
 "nbformat_minor": 2
}
